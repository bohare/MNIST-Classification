{
 "metadata": {
  "name": "",
  "signature": "sha256:06c853ccf7e34e07b3fc7a7741db148419c7460daf48f2ea3ce27cd9cf1360db"
 },
 "nbformat": 3,
 "nbformat_minor": 0,
 "worksheets": [
  {
   "cells": [
    {
     "cell_type": "code",
     "collapsed": false,
     "input": [
      "class Network(object):\n",
      "\n",
      "    def __init__(self, sizes):\n",
      "        self.num_layers = len(sizes)\n",
      "        self.sizes = sizes\n",
      "        self.biases = [np.random.randn(y, 1) for y in sizes[1:]]\n",
      "        self.weights = [np.random.randn(y, x) \n",
      "                        for x, y in zip(sizes[:-1], sizes[1:])]\n"
     ],
     "language": "python",
     "metadata": {},
     "outputs": [],
     "prompt_number": 1
    },
    {
     "cell_type": "code",
     "collapsed": false,
     "input": [
      "def sigmoid(z):\n",
      "    return 1.0/(1.0+np.exp(-z))"
     ],
     "language": "python",
     "metadata": {},
     "outputs": [],
     "prompt_number": 2
    },
    {
     "cell_type": "code",
     "collapsed": false,
     "input": [
      "def feedforward(self, a):\n",
      "        \"\"\"Return the output of the network if \"a\" is input.\"\"\"\n",
      "        for b, w in zip(self.biases, self.weights):\n",
      "            a = sigmoid(np.dot(w, a)+b)\n",
      "        return a"
     ],
     "language": "python",
     "metadata": {},
     "outputs": [],
     "prompt_number": 3
    },
    {
     "cell_type": "code",
     "collapsed": false,
     "input": [
      "def SGD(self, training_data, epochs, mini_batch_size, eta,\n",
      "            test_data=None):\n",
      "        \"\"\"Train the neural network using mini-batch stochastic\n",
      "        gradient descent.  The \"training_data\" is a list of tuples\n",
      "        \"(x, y)\" representing the training inputs and the desired\n",
      "        outputs.  The other non-optional parameters are\n",
      "        self-explanatory.  If \"test_data\" is provided then the\n",
      "        network will be evaluated against the test data after each\n",
      "        epoch, and partial progress printed out.  This is useful for\n",
      "        tracking progress, but slows things down substantially.\"\"\"\n",
      "        if test_data: n_test = len(test_data)\n",
      "        n = len(training_data)\n",
      "        for j in xrange(epochs):\n",
      "            random.shuffle(training_data)\n",
      "            mini_batches = [\n",
      "                training_data[k:k+mini_batch_size]\n",
      "                for k in xrange(0, n, mini_batch_size)]\n",
      "            for mini_batch in mini_batches:\n",
      "                self.update_mini_batch(mini_batch, eta)\n",
      "            if test_data:\n",
      "                print \"Epoch {0}: {1} / {2}\".format(\n",
      "                    j, self.evaluate(test_data), n_test)\n",
      "            else:\n",
      "                print \"Epoch {0} complete\".format(j)"
     ],
     "language": "python",
     "metadata": {},
     "outputs": [],
     "prompt_number": 4
    },
    {
     "cell_type": "code",
     "collapsed": false,
     "input": [
      "def update_mini_batch(self, mini_batch, eta):\n",
      "        \"\"\"Update the network's weights and biases by applying\n",
      "        gradient descent using backpropagation to a single mini batch.\n",
      "        The \"mini_batch\" is a list of tuples \"(x, y)\", and \"eta\"\n",
      "        is the learning rate.\"\"\"\n",
      "        nabla_b = [np.zeros(b.shape) for b in self.biases]\n",
      "        nabla_w = [np.zeros(w.shape) for w in self.weights]\n",
      "        for x, y in mini_batch:\n",
      "            delta_nabla_b, delta_nabla_w = self.backprop(x, y)\n",
      "            nabla_b = [nb+dnb for nb, dnb in zip(nabla_b, delta_nabla_b)]\n",
      "            nabla_w = [nw+dnw for nw, dnw in zip(nabla_w, delta_nabla_w)]\n",
      "        self.weights = [w-(eta/len(mini_batch))*nw \n",
      "                        for w, nw in zip(self.weights, nabla_w)]\n",
      "        self.biases = [b-(eta/len(mini_batch))*nb \n",
      "                       for b, nb in zip(self.biases, nabla_b)]"
     ],
     "language": "python",
     "metadata": {},
     "outputs": [],
     "prompt_number": 5
    },
    {
     "cell_type": "code",
     "collapsed": false,
     "input": [],
     "language": "python",
     "metadata": {},
     "outputs": []
    }
   ],
   "metadata": {}
  }
 ]
}